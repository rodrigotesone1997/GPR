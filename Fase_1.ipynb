{
 "cells": [
  {
   "cell_type": "markdown",
   "id": "062b7f7d",
   "metadata": {},
   "source": [
    "# Fase 1"
   ]
  },
  {
   "cell_type": "code",
   "execution_count": null,
   "id": "3e2c0395",
   "metadata": {},
   "outputs": [],
   "source": [
    "from datetime import datetime\n",
    "Inicio_programa=datetime.now()"
   ]
  },
  {
   "cell_type": "markdown",
   "id": "116f315c",
   "metadata": {},
   "source": [
    "### Importo los paquetes"
   ]
  },
  {
   "cell_type": "code",
   "execution_count": null,
   "id": "86a6dd28",
   "metadata": {},
   "outputs": [],
   "source": [
    "import os # Funciones para interactuar con el sistema operativo\n",
    "import re # Funciones de expresiones regulares\n",
    "import wget # Función que descarga pdf's\n",
    "import random # Funcionalidades para la aleatoridad\n",
    "import requests #\n",
    "from bs4 import BeautifulSoup # Obtiene html de una pagina en cuestión\n",
    "from datetime import date,datetime # Funciones para habilitar Fecha,hora,etc\n",
    "from pdf2image import convert_from_path # Convierte pdf's a imagenes\n",
    "import pytesseract # Habilita funciones para extraer texto de imagenes\n",
    "from PIL import Image # Función para manejo de imagenes\n",
    "import shutil # Funciones para interctuar con el sistema operativo que no tiene os\n",
    "import datetime\n",
    "import numpy as np # Funcionalidad para listas y matrices de una manera mas eficiente\n",
    "from natsort import natsorted # Funcionalidad para ordenar folder\n",
    "from email.mime.multipart import MIMEMultipart\n",
    "from email.mime.text import MIMEText\n",
    "import smtplib # Funciones para mandar mail\n",
    "import json"
   ]
  },
  {
   "cell_type": "markdown",
   "id": "05519189",
   "metadata": {},
   "source": [
    "### Obtengo los url para la descarga"
   ]
  },
  {
   "cell_type": "code",
   "execution_count": null,
   "id": "ba5b199f",
   "metadata": {},
   "outputs": [],
   "source": [
    "# La función URL recibe un url de tipo string y develve una variable soup.Entre sus atributos se\n",
    "# encuentra el html de la pagina como un string\n",
    "\n",
    "def URL(url):\n",
    "    global soup \n",
    "    req = requests.get(url)\n",
    "    soup = BeautifulSoup(req.content, 'html.parser')\n",
    "\n",
    "URL(\"https://www.rosario.gob.ar/web/gobierno/personal/sueldos\")\n",
    "\n",
    "'''\n",
    "Luego de revisar el html de la pagina utilizo metodos de soup para tener acceso a los enlaces de\n",
    "descarga de los pdf.\n",
    "Primero obtengo la lista de \"ul\" de la pagina\n",
    "Segundo voy a la \"ul\" en el que especificamente estan los url buscados\n",
    "Tercero busco todos los enlaces del \"ul\" seleccionado\n",
    "Cuarto, uso expresiones regulares para extraer los url necesarios para la descarga y los pongo en una\n",
    "lista\n",
    "'''\n",
    "\n",
    "# print(soup.prettify())\n",
    "# Si te interesa ver como queda el el html extraido podes decomentar la linea de arriba código\n",
    "\n",
    "pagina_sueldos=\"https://www.rosario.gob.ar\"\n",
    "lista_enlaces=[]\n",
    "\n",
    "tag_class=soup.find_all(\"ul\")\n",
    "\n",
    "tag_class=tag_class[-5].find_all(\"a\")\n",
    "for i in range(0,len(tag_class)):\n",
    "    try:\n",
    "        tag_cadena=str(tag_class[i])\n",
    "        inicio=re.search(\"href=\\\"\",tag_cadena).span()[1]\n",
    "        final=re.search(\"\\\"\",tag_cadena[inicio:-1]).span()[0]\n",
    "        lista_enlaces.append(pagina_sueldos+tag_cadena[inicio:final+inicio])\n",
    "    except :\n",
    "        pass"
   ]
  },
  {
   "cell_type": "markdown",
   "id": "8359f84a",
   "metadata": {},
   "source": [
    "### Pongo el path donde esta ubicado la carpeta \"Gasto_Publico_Argentino_files\""
   ]
  },
  {
   "cell_type": "code",
   "execution_count": null,
   "id": "aecc1ab6",
   "metadata": {},
   "outputs": [],
   "source": [
    "# Se tiene que reemplazar por el path en tu maquina local\n",
    "\n",
    "path_local=\"path/Gasto_Publico_Argentino_files\""
   ]
  },
  {
   "cell_type": "markdown",
   "id": "3fa2ba85",
   "metadata": {},
   "source": [
    "### Descarga de pdf's"
   ]
  },
  {
   "cell_type": "code",
   "execution_count": null,
   "id": "e84a4208",
   "metadata": {},
   "outputs": [],
   "source": [
    "'''\n",
    "Creo una carpeta y guardo todos los pdf ahi\n",
    "'''\n",
    "\n",
    "path_pdf=path_local+\"/Salarios_Rosario/pdf/carpeta_prueba_Sueldos\"\n",
    "os.mkdir(path_pdf)\n",
    "for url in lista_enlaces:\n",
    "    wget.download(url,path_pdf)"
   ]
  },
  {
   "cell_type": "markdown",
   "id": "fbdc0f0d",
   "metadata": {},
   "source": [
    "# Una vez descargado los nuevos pdf's hay 3 posibilidades\n",
    "- Que sean los mismos pdf que la ultima vez que se descargo\n",
    "- Que sean distinto (nuevos) pdf's que la ultima vez\n",
    "- Que algunos hayan cambiado y otros no\n",
    "\n",
    "En lineas generales lo que voy a hacer en los siguientes bloques es determinar en cual de los siguientes casos estamos"
   ]
  },
  {
   "cell_type": "markdown",
   "id": "50fe2a8a",
   "metadata": {},
   "source": [
    "### Veo cuantas carpetas de pdf tengo actualmente"
   ]
  },
  {
   "cell_type": "code",
   "execution_count": null,
   "id": "c2cc2f10",
   "metadata": {},
   "outputs": [],
   "source": [
    "url_folder_pdf=path_local+\"/Salarios_Rosario/pdf\"\n",
    "list_folder=natsorted(os.listdir(url_folder_pdf))"
   ]
  },
  {
   "cell_type": "code",
   "execution_count": null,
   "id": "fb5df196",
   "metadata": {},
   "outputs": [],
   "source": [
    "'''\n",
    "Una vez tengo la lista de las carpetas de pdf's reviso que no todas carpetas terminen\n",
    "en \"_Sueldos\" que es el patron de carpetas en la carpeta pdf.\n",
    "'''\n",
    "\n",
    "for i in list_folder:\n",
    "    if str(re.search(\"_Sueldos\",i)) == \"None\":\n",
    "        list_folder.remove(i)"
   ]
  },
  {
   "cell_type": "code",
   "execution_count": null,
   "id": "b872f6e9",
   "metadata": {},
   "outputs": [],
   "source": [
    "Meses=[\"ENERO\",\n",
    "      \"FEBRERO\",\n",
    "      \"MARZO\",\n",
    "      \"ABRIL\",\n",
    "      \"MAYO\",\n",
    "      \"JUNIO\",\n",
    "      \"JULIO\",\n",
    "      \"AGOSTO\",\n",
    "      \"SEPTIEMBRE\",\n",
    "      \"OCTUBRE\",\n",
    "      \"NOVIEMBRE\",\n",
    "      \"DICIEMBRE\"]"
   ]
  },
  {
   "cell_type": "code",
   "execution_count": null,
   "id": "fa8fee68",
   "metadata": {},
   "outputs": [],
   "source": [
    "'''\n",
    "Dentro de la carpeta imagenes voy agregando imagenes de la primera hoja de cada uno de los pdf recien\n",
    "descargados.Luego extraigo el texto de cada imagen y obtengo que mes tienen en cada imagen\n",
    "(se encuentra) en la esquina superior derecha.\n",
    "Una vez localizado se agrega a \"lista_mes\"\n",
    "'''\n",
    "\n",
    "try:\n",
    "    os.mkdir(path_local+\"/Salarios_Rosario/imagenes\")\n",
    "except:\n",
    "    pass\n",
    "\n",
    "lista_mes=[]\n",
    "\n",
    "'''\n",
    "En caso de haber descargado el ejecutable descomentar las siguientes 2\n",
    "líneas de código.\n",
    "En caso de tenerlo instalado cambiar path_tesseract_exe por la ubicacion del ejecutable\n",
    "de tu maquina.\n",
    "'''\n",
    "\n",
    "# path_tesseract_exe=\"path/tesseract.exe\"\n",
    "# pytesseract.pytesseract.tesseract_cmd=path_tesseract_exe\n",
    "\n",
    "'''\n",
    "Si se descargo el ejecutable asociado a pdf2image descomentar la siguiente linea.\n",
    "'''\n",
    "\n",
    "# poppler_path_local= \"C:/Program Files (x86)/poppler-21.03.0/Library/bin\"\n",
    "\n",
    "\n",
    "# Tambien descomentar la linea que corresponda a su sistema operativo para la variable primera_hoja.\n",
    "\n",
    "for i in os.listdir(path_local+\"/Salarios_Rosario/pdf/carpeta_prueba_Sueldos\"):\n",
    "    path_pdf_a_convertir=os.path.join(path_local+\"/Salarios_Rosario/pdf/carpeta_prueba_Sueldos\",i)\n",
    "    \n",
    "    # Para usuarios Linux\n",
    "    \n",
    "    # primera_hoja=convert_from_path(path_pdf_a_convertir, first_page=0, last_page=0)\n",
    "    \n",
    "    # Para usuarios windows\n",
    "    \n",
    "    # primera_hoja=convert_from_path(path_pdf_a_convertir, first_page=0, last_page=0, poppler_path = poppler_path_local)\n",
    "    \n",
    "    i=re.sub(\".pdf\",\"\",i)\n",
    "    path_auxiliar=path_local+\"/Salarios_Rosario/imagenes/\"+i+\".jpg\"\n",
    "    primera_hoja[0].save(path_auxiliar, 'JPEG')\n",
    "    imagen=Image.open(path_auxiliar)\n",
    "    text=pytesseract.image_to_string(imagen)\n",
    "    for i in Meses:\n",
    "        try:\n",
    "            buscador_de_mes=re.search(i,text).span()[1]\n",
    "            lista_mes.append(i)\n",
    "            break\n",
    "        except:\n",
    "            pass"
   ]
  },
  {
   "cell_type": "code",
   "execution_count": null,
   "id": "d5e3804e",
   "metadata": {},
   "outputs": [],
   "source": [
    "'''\n",
    "Aca se separa en 2 casos:\n",
    "Si \"lista_mes\" tiene el mismo mes en todas sus componentes procedo a extraer el mes de un pdf elegido\n",
    "de manera aleatoria de \"carpeta_prueba\" con el mismo pdf en la penultima carpeta\n",
    "(que son los datos mas actuales de momento).\n",
    "Tambien descomentar la linea que corresponda a su sistema operativo.\n",
    "'''\n",
    "\n",
    "if len(np.unique(np.array(lista_mes)))==1:\n",
    "    numero_random=random.choice(range(17))\n",
    "    pdf_viejo=list_folder[-2]\n",
    "    path_pdf_viejo=url_folder_pdf+\"/\"+pdf_viejo+\"/\"+natsorted(os.listdir(url_folder_pdf+\"/\"+pdf_viejo))[numero_random]\n",
    "    pdf_nuevo=list_folder[-1]\n",
    "    path_pdf_nuevo=url_folder_pdf+\"/\"+pdf_nuevo+\"/\"+natsorted(os.listdir(url_folder_pdf+\"/\"+pdf_nuevo))[numero_random]\n",
    "    \n",
    "    # Para usuarios Linux\n",
    "    \n",
    "    # imagen_vieja=convert_from_path(path_pdf_viejo)\n",
    "    \n",
    "    # Para usuarios Windows \n",
    "    \n",
    "    # imagen_vieja=convert_from_path(path_pdf_viejo, poppler_path = poppler_path_local)\n",
    "    \n",
    "    imagen_vieja[0].save(path_local+'/Salarios_Rosario/imagen_vieja.jpg', 'JPEG')\n",
    "\n",
    "    imagen_vieja=Image.open(path_local+'/Salarios_Rosario/imagen_vieja.jpg')\n",
    "    imagen_nueva=Image.open(path_local+'/Salarios_Rosario/imagenes/'+natsorted(os.listdir(path_local+\"/Salarios_Rosario/imagenes\"))[numero_random])\n",
    "\n",
    "    text_viejo=pytesseract.image_to_string(imagen_vieja)\n",
    "    text_nuevo=pytesseract.image_to_string(imagen_nueva)\n",
    "    for i in Meses:\n",
    "        try:\n",
    "            final=re.search(i,text_viejo).span()[1]\n",
    "            ano_viejo=text_viejo[final+4:final+8]\n",
    "            mes_viejo=i\n",
    "            break\n",
    "        except:\n",
    "            pass\n",
    "\n",
    "    for i in Meses:\n",
    "        try:\n",
    "            final=re.search(i,text_nuevo).span()[1]\n",
    "            ano_nuevo=text_nuevo[final+4:final+8]\n",
    "            mes_nuevo=i\n",
    "            break\n",
    "        except:\n",
    "            pass\n",
    "else:\n",
    "    pass\n",
    "\n",
    "'''\n",
    "Esto es una idea para hacer un poco mas preciso el código pero no lo pense de momento\n",
    "Faltaria resolver esta parte que basicamente seria obtener cuales archivos son nuevos y cuales viejos\n",
    "Recordemos que si llego a este bloque de código es porque hay mix de archivos viejos y archivos nuevos\n",
    "Quiza deba dejar por defecto una carpeta con las imagenes de la portada de la anterior carpeta de pdf (2021_03_Sueldos en este caso)\n",
    "'''"
   ]
  },
  {
   "cell_type": "code",
   "execution_count": null,
   "id": "29bed5e4",
   "metadata": {},
   "outputs": [],
   "source": [
    "'''\n",
    "Habiendo obtenido el mes y el año del pdf nuevo y el pdf viejo los comparo.\n",
    "Si son iguales entonces los pdf son iguales por tanto no se detectan cambios y si son distintos\n",
    "entonces si se detecta un cambio.\n",
    "Si en el bloque de código anterior paso directamente al else entonces no se definio ninguna de las\n",
    "variables mes o año.\n",
    "En ese paso va a pasar directamente al except.\n",
    "'''\n",
    "\n",
    "try:\n",
    "    if mes_viejo != mes_nuevo or ano_viejo != ano_nuevo:\n",
    "        cambio=True\n",
    "    else:\n",
    "        cambio=False\n",
    "except:\n",
    "    cambio=None"
   ]
  },
  {
   "cell_type": "code",
   "execution_count": null,
   "id": "6aeee1ff",
   "metadata": {
    "scrolled": true
   },
   "outputs": [],
   "source": [
    "'''\n",
    "Aca paso el mes a número.\n",
    "Como el caso anterior, en el caso de que no este definida la variable mes_nuevo pasa el except\n",
    "'''\n",
    "\n",
    "for i,j in enumerate(Meses):\n",
    "    if j == mes_nuevo:\n",
    "        numero_de_mes=i+1\n",
    "        mes_nuevo=str(numero_de_mes)\n",
    "if len(mes_nuevo)==1:\n",
    "    mes_nuevo=\"0\"+mes_nuevo"
   ]
  },
  {
   "cell_type": "code",
   "execution_count": null,
   "id": "616cc4dd",
   "metadata": {},
   "outputs": [],
   "source": [
    "Actualizacion=str(date.today().strftime(\"%Y-%m-%d\"))"
   ]
  },
  {
   "cell_type": "markdown",
   "id": "8b3c0fb7",
   "metadata": {},
   "source": [
    "# Funcion para convertir una carpeta a \".zip\""
   ]
  },
  {
   "cell_type": "code",
   "execution_count": null,
   "id": "b690072e",
   "metadata": {},
   "outputs": [],
   "source": [
    "def make_archive(source, destination):\n",
    "    base = os.path.basename(destination)\n",
    "    name = base.split('.')[0]\n",
    "    format = base.split('.')[1]\n",
    "    archive_from = os.path.dirname(source)\n",
    "    archive_to = os.path.basename(source.strip(os.sep))\n",
    "    shutil.make_archive(name, format, archive_from, archive_to)\n",
    "    shutil.move('%s.%s'%(name,format), destination)"
   ]
  },
  {
   "cell_type": "code",
   "execution_count": null,
   "id": "22ec2c48",
   "metadata": {},
   "outputs": [],
   "source": [
    "'''\n",
    "Aca se separa en los 3 distintos casos:\n",
    "\n",
    "Caso cambio == True:\n",
    "Si esta aca es porque cambiaron los pdf respecto a los ultmos entonces conservo la carpeta descargada\n",
    "y le cambio el nombre con el formato \"(año_nuevo)_(mes_nuevo)_Sueldo\", abro (o creo) un archivo\n",
    "llamado \"Seguimiento.txt\" En que se escribe \"Fecha del dia:HUBO UN CAMBIO\"\n",
    "\n",
    "Caso cambio == False:\n",
    "Ya que no hubo cambio solo se borra la carpeta descargada y se escribe el mismo .txt mencionado\n",
    "anteriormente\n",
    "\n",
    "Caso cambio == None:\n",
    "Se borra la carpeta creada y se reporta al .txt que se cambiaron algunos pdf pero no todos\n",
    "\n",
    "Luego se borran las imagenes creadas.\n",
    "'''\n",
    "\n",
    "if cambio == True:\n",
    "    os.rename(path_local+\"/Salarios_Rosario/pdf/carpeta_prueba_Sueldos\",os.path.join(path_local+\"/Salarios_Rosario/pdf\",ano_nuevo+\"_\"+ mes_nuevo + \"_Sueldos\"))\n",
    "    with open(path_local+\"/Seguimiento.txt\",\"a\") as f:\n",
    "        f.write(f\"\\n{Actualizacion}: HUBO UN CAMBIO\")\n",
    "elif cambio == False:\n",
    "    shutil.rmtree(path_local+\"/Salarios_Rosario/pdf/carpeta_prueba_Sueldos\")\n",
    "    with open(path_local+\"/Seguimiento.txt\",\"a\") as f:\n",
    "        f.write(f\"\\n{Actualizacion}: NO HUBO UN CAMBIO\")\n",
    "else:\n",
    "    shutil.rmtree(path_local+\"/Salarios_Rosario/pdf/carpeta_prueba_Sueldos\")\n",
    "    with open(path_local+\"/Seguimiento.txt\",\"a\") as f:\n",
    "        f.write(f\"\\n{Actualizacion}: Hubo un cambio de algunos archivos pero no se han cambiado todos\")\n",
    "\n",
    "make_archive(path_local, path_local+\".zip\")\n",
    "\n",
    "try:\n",
    "    shutil.rmtree(path_local+\"/Salarios_Rosario/imagenes\")\n",
    "    os.remove(path_local+'/Salarios_Rosario/imagen_vieja.jpg')\n",
    "except:\n",
    "    pass"
   ]
  },
  {
   "cell_type": "code",
   "execution_count": null,
   "id": "76dcd7f9",
   "metadata": {},
   "outputs": [],
   "source": [
    "from datetime import datetime\n",
    "Finalizacion_programa=datetime.now()\n",
    "\n",
    "from datetime import timedelta\n",
    "\n",
    "if cambio == True:\n",
    "    with open(\"path/keys_fase_1.json\",\"r\") as f:\n",
    "        loaded_keys=json.loads(f.read())\n",
    "    \n",
    "    tiempo=Finalizacion_programa-Inicio_programa\n",
    "\n",
    "    tiempo_medido=str(timedelta(seconds=tiempo.seconds))[2:]\n",
    "    \n",
    "    mail_content = '''Se publicaron los salarios del mes de %s de la Municipalidad \n",
    "    de Rosario.\\nEl proceso tardo aproximadamente %s.\n",
    "    '''%(Meses[numero_de_mes-1].capitalize(),tiempo_medido)\n",
    "    #The mail addresses and password\n",
    "    sender_address = loaded_keys[\"sender_address\"]\n",
    "    sender_pass = loaded_keys[\"sender_pass\"]\n",
    "    receiver_address = loaded_keys[\"receiver_address\"]\n",
    "    #Setup the MIME\n",
    "    message = MIMEMultipart()\n",
    "    message['From'] = sender_address\n",
    "    message['To'] = receiver_address\n",
    "    message['Subject'] = 'Notificaciones de salarios Municipales'   #The subject line\n",
    "    #The body and the attachments for the mail\n",
    "    message.attach(MIMEText(mail_content, 'plain'))\n",
    "    #Create SMTP session for sending the mail\n",
    "    session = smtplib.SMTP('smtp.gmail.com', 587) #use gmail with port\n",
    "    session.starttls() #enable security\n",
    "    session.login(sender_address, sender_pass) #login with mail_id and password\n",
    "    text = message.as_string()\n",
    "    session.sendmail(sender_address, receiver_address, text)\n",
    "    session.quit()"
   ]
  }
 ],
 "metadata": {
  "kernelspec": {
   "display_name": "Python 3",
   "language": "python",
   "name": "python3"
  },
  "language_info": {
   "codemirror_mode": {
    "name": "ipython",
    "version": 3
   },
   "file_extension": ".py",
   "mimetype": "text/x-python",
   "name": "python",
   "nbconvert_exporter": "python",
   "pygments_lexer": "ipython3",
   "version": "3.8.10"
  }
 },
 "nbformat": 4,
 "nbformat_minor": 5
}
